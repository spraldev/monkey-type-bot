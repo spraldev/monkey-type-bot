{
 "cells": [
  {
   "cell_type": "code",
   "execution_count": 14,
   "metadata": {},
   "outputs": [
    {
     "name": "stdout",
     "output_type": "stream",
     "text": [
      "Current mouse position: (1498, 716)\n"
     ]
    }
   ],
   "source": [
    "import pyautogui\n",
    "import time\n",
    "\n",
    "# find the current cursor position\n",
    "\n",
    "time.sleep(5) # wait for 5 seconds before taking the screenshot\n",
    "x, y = pyautogui.position()\n",
    "print(f\"Current mouse position: ({x}, {y})\")\n",
    "\n",
    "\n",
    "# Current mouse position: (190, 504)\n",
    "# Current mouse position:   \n"
   ]
  },
  {
   "cell_type": "markdown",
   "metadata": {},
   "source": []
  }
 ],
 "metadata": {
  "kernelspec": {
   "display_name": "3.11.8",
   "language": "python",
   "name": "python3"
  },
  "language_info": {
   "codemirror_mode": {
    "name": "ipython",
    "version": 3
   },
   "file_extension": ".py",
   "mimetype": "text/x-python",
   "name": "python",
   "nbconvert_exporter": "python",
   "pygments_lexer": "ipython3",
   "version": "3.11.8"
  }
 },
 "nbformat": 4,
 "nbformat_minor": 2
}
